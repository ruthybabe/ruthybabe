{
  "cells": [
    {
      "cell_type": "markdown",
      "metadata": {
        "id": "view-in-github",
        "colab_type": "text"
      },
      "source": [
        "<a href=\"https://colab.research.google.com/github/ruthybabe/ruthybabe/blob/main/PYTHON%20PROGRAMMING%20LANGUAGE%20%20-%20AltSchool%20Africa.ipynb\" target=\"_parent\"><img src=\"https://colab.research.google.com/assets/colab-badge.svg\" alt=\"Open In Colab\"/></a>"
      ]
    },
    {
      "cell_type": "markdown",
      "metadata": {
        "id": "dErMGt3cfYRz"
      },
      "source": [
        "### **Python Variable and setting up**"
      ]
    },
    {
      "cell_type": "code",
      "execution_count": 48,
      "metadata": {
        "colab": {
          "base_uri": "https://localhost:8080/"
        },
        "id": "q9k3m390DlWA",
        "outputId": "18844b1d-b33c-48fe-db44-4c829f47047f"
      },
      "outputs": [
        {
          "output_type": "stream",
          "name": "stdout",
          "text": [
            "Hello world!\n"
          ]
        }
      ],
      "source": [
        "# Creating a variable\n",
        "\n",
        "# We use a single equals sign to assign labels to variables.\n",
        "\n",
        "Greetings = 'Hello world!'\n",
        "\n",
        "print(Greetings)"
      ]
    },
    {
      "cell_type": "code",
      "source": [
        "statement = ('nnamdi is a very troublesome old man')"
      ],
      "metadata": {
        "id": "Jfb_hpS6aPk9"
      },
      "execution_count": 5,
      "outputs": []
    },
    {
      "cell_type": "code",
      "source": [
        "print(statement)"
      ],
      "metadata": {
        "id": "WrpQw4bdag8N",
        "colab": {
          "base_uri": "https://localhost:8080/"
        },
        "outputId": "04aa989d-7687-4466-99bf-4333d60691c0"
      },
      "execution_count": 6,
      "outputs": [
        {
          "output_type": "stream",
          "name": "stdout",
          "text": [
            "nnamdi is a very troublesome old man\n"
          ]
        }
      ]
    },
    {
      "cell_type": "code",
      "source": [
        "age = 27"
      ],
      "metadata": {
        "id": "z_NvsBwZapVj"
      },
      "execution_count": 51,
      "outputs": []
    },
    {
      "cell_type": "code",
      "source": [
        "age"
      ],
      "metadata": {
        "colab": {
          "base_uri": "https://localhost:8080/"
        },
        "id": "w2RQAEo2avJX",
        "outputId": "8ad9c151-a61e-4d43-bdae-aeb92a082f0c"
      },
      "execution_count": 52,
      "outputs": [
        {
          "output_type": "execute_result",
          "data": {
            "text/plain": [
              "27"
            ]
          },
          "metadata": {},
          "execution_count": 52
        }
      ]
    },
    {
      "cell_type": "code",
      "source": [
        "age = age + age"
      ],
      "metadata": {
        "id": "t2L5kHUscGp2"
      },
      "execution_count": 53,
      "outputs": []
    },
    {
      "cell_type": "code",
      "source": [
        "age"
      ],
      "metadata": {
        "colab": {
          "base_uri": "https://localhost:8080/"
        },
        "id": "hKbrM4d_cMJF",
        "outputId": "724a3f1a-58f2-420b-8e92-cd0579579e02"
      },
      "execution_count": 54,
      "outputs": [
        {
          "output_type": "execute_result",
          "data": {
            "text/plain": [
              "54"
            ]
          },
          "metadata": {},
          "execution_count": 54
        }
      ]
    },
    {
      "cell_type": "code",
      "source": [
        "# Reassigning age Yes! Python allows you to write over assigned variable names\n",
        "\n",
        "# We can also use the variables themselves when doing the reassignment\n",
        "\n",
        "age = 50"
      ],
      "metadata": {
        "id": "1TOEmRKscc42"
      },
      "execution_count": 117,
      "outputs": []
    },
    {
      "cell_type": "code",
      "source": [
        "age + 50"
      ],
      "metadata": {
        "colab": {
          "base_uri": "https://localhost:8080/"
        },
        "id": "bJBhaEB8cgQ_",
        "outputId": "f0667d1c-9412-4ecd-cc9b-9e8d00f9b07a"
      },
      "execution_count": 118,
      "outputs": [
        {
          "output_type": "execute_result",
          "data": {
            "text/plain": [
              "100"
            ]
          },
          "metadata": {},
          "execution_count": 118
        }
      ]
    },
    {
      "cell_type": "code",
      "source": [
        "# There's actually a shortcut for this. Python lets you add, subtract, multiply and divide numbers with reassignment using +=, -=, *=, and /=."
      ],
      "metadata": {
        "id": "v847Tsjvi8IK"
      },
      "execution_count": null,
      "outputs": []
    },
    {
      "cell_type": "code",
      "source": [
        "age += 10"
      ],
      "metadata": {
        "id": "zt6Mr8jMjBel"
      },
      "execution_count": 119,
      "outputs": []
    },
    {
      "cell_type": "code",
      "source": [
        "age"
      ],
      "metadata": {
        "colab": {
          "base_uri": "https://localhost:8080/"
        },
        "id": "__KvqwlvjJbF",
        "outputId": "4a3ac94f-d9d8-4eda-a2d4-919db2f33313"
      },
      "execution_count": 120,
      "outputs": [
        {
          "output_type": "execute_result",
          "data": {
            "text/plain": [
              "60"
            ]
          },
          "metadata": {},
          "execution_count": 120
        }
      ]
    },
    {
      "cell_type": "markdown",
      "source": [
        "### **Formatting print statement**"
      ],
      "metadata": {
        "id": "6Sp3mTyKbmAm"
      }
    },
    {
      "cell_type": "code",
      "source": [
        "# The print statement is what we use to show result in python\n",
        "\n",
        "# '.format' function"
      ],
      "metadata": {
        "id": "aAYfyjPobvOj"
      },
      "execution_count": 20,
      "outputs": []
    },
    {
      "cell_type": "code",
      "source": [
        "num = 7\n",
        "name = 'ruth'"
      ],
      "metadata": {
        "id": "CphfPUVLbzVx"
      },
      "execution_count": 8,
      "outputs": []
    },
    {
      "cell_type": "code",
      "source": [
        "print('my number is {} and my name is {}'.format(num,name))"
      ],
      "metadata": {
        "colab": {
          "base_uri": "https://localhost:8080/"
        },
        "id": "PllRwa8Jb_AM",
        "outputId": "15bdd1c2-35f0-4b14-9821-3b98e20ffbf9"
      },
      "execution_count": 21,
      "outputs": [
        {
          "output_type": "stream",
          "name": "stdout",
          "text": [
            "my number is 7 and my name is ruth\n"
          ]
        }
      ]
    },
    {
      "cell_type": "code",
      "source": [
        "# Self Introduction - Using the '.format' function to format the print statement\n",
        "\n",
        "greetings = 'Hello, everyone!'\n",
        "\n",
        "name = 'ruth'\n",
        "\n",
        "location = 'lagos, nigeria.'\n",
        "\n",
        "current_profession = 'customer experience specialist.'\n",
        "\n",
        "print(' {} my name is {} based in {} and i currently work as a {}'.format( greetings, name, location, current_profession ))"
      ],
      "metadata": {
        "colab": {
          "base_uri": "https://localhost:8080/"
        },
        "id": "CPAZVTuKb-11",
        "outputId": "ac44139e-16a9-4e88-e7fe-64f4e9565af5"
      },
      "execution_count": 14,
      "outputs": [
        {
          "output_type": "stream",
          "name": "stdout",
          "text": [
            " Hello, everyone! my name is ruth based in lagos, nigeria. and i currently work as a customer experience specialist.\n"
          ]
        }
      ]
    },
    {
      "cell_type": "code",
      "execution_count": 22,
      "metadata": {
        "colab": {
          "base_uri": "https://localhost:8080/"
        },
        "id": "c7xt9xOeiLiD",
        "outputId": "ba0ac7b3-6cff-47f8-95fb-6fb22a4f4aaf"
      },
      "outputs": [
        {
          "output_type": "stream",
          "name": "stdout",
          "text": [
            "Hello, everyone! my name is ruth based in lagos, nigeria currently working as a customer experience specialist and  i love amala\n",
            "Hello, everyone! my name is micheal based in lagos, nigeria currently working as a product designer and  i love pepper soup\n"
          ]
        }
      ],
      "source": [
        "# Self Introduction - First Assignment from susan odere - using the 'def' function to difine \" Introduction \"\n",
        "\n",
        "# greetings = 'Hello, everyone!'\n",
        "\n",
        "# name = 'ruth'\n",
        "\n",
        "# location = 'lagos, nigeria.'\n",
        "\n",
        "# current_profession = 'customer experience specialist.'\n",
        "\n",
        "# introduction = greetings + ' my name is ' + name + ' based in ' + location + ' currently working as a ' + current_profession + 'amala' + food\n",
        "\n",
        "# print(introduction)\n",
        "\n",
        "def introduction(greetings, name, location, current_profession, food):\n",
        "  print(greetings + ' my name is ' + name + ' based in ' + location + ' currently working as a ' + current_profession + ' and ' + ' i love ' + food);\n",
        "\n",
        "\n",
        "\n",
        "introduction('Hello, everyone!', 'ruth', 'lagos, nigeria', 'customer experience specialist', 'amala')\n",
        "introduction('Hello, everyone!', 'micheal', 'lagos, nigeria', 'product designer', 'pepper soup')\n",
        "\n"
      ]
    },
    {
      "cell_type": "code",
      "execution_count": 25,
      "metadata": {
        "colab": {
          "base_uri": "https://localhost:8080/"
        },
        "id": "QaT8bvXFcggS",
        "outputId": "74ad7ace-971c-4253-b281-fb9cc25b0fed"
      },
      "outputs": [
        {
          "output_type": "stream",
          "name": "stdout",
          "text": [
            "23\n"
          ]
        }
      ],
      "source": [
        "# labeling with intuition - Not readable\n",
        "\n",
        "a_t = 23\n",
        "\n",
        "print(a_t)"
      ]
    },
    {
      "cell_type": "code",
      "execution_count": 26,
      "metadata": {
        "colab": {
          "base_uri": "https://localhost:8080/"
        },
        "id": "z7_zz9xvdRW8",
        "outputId": "e0c5bf50-545c-412d-c5dd-08ea775f62a9"
      },
      "outputs": [
        {
          "output_type": "stream",
          "name": "stdout",
          "text": [
            "23\n"
          ]
        }
      ],
      "source": [
        "# intuitive labeling - readable\n",
        "\n",
        "age_of_teens = 23\n",
        "\n",
        "print(age_of_teens)"
      ]
    },
    {
      "cell_type": "markdown",
      "metadata": {
        "id": "Cd_LrUbvy2Et"
      },
      "source": [
        "## **Strings**"
      ]
    },
    {
      "cell_type": "code",
      "source": [
        "# strings - indexing a string\n",
        "\n",
        "# indexing at python starts at 0 and uses the [] bracket"
      ],
      "metadata": {
        "id": "D3cpJfnWgcJY"
      },
      "execution_count": 37,
      "outputs": []
    },
    {
      "cell_type": "code",
      "source": [
        "s = 'greetings'"
      ],
      "metadata": {
        "id": "5Ef1_qdigofF"
      },
      "execution_count": 38,
      "outputs": []
    },
    {
      "cell_type": "code",
      "source": [
        "print( s [6])"
      ],
      "metadata": {
        "colab": {
          "base_uri": "https://localhost:8080/"
        },
        "id": "LKSZikSVgs3D",
        "outputId": "50f57d7f-8521-4fbd-8ad4-004b73a47956"
      },
      "execution_count": 39,
      "outputs": [
        {
          "output_type": "stream",
          "name": "stdout",
          "text": [
            "n\n"
          ]
        }
      ]
    },
    {
      "cell_type": "code",
      "source": [
        "# slice notation - use to take some parts of a string or slices of a string\n",
        "\n",
        "# basically removing some part of a string (including & excluding)\n",
        "\n",
        "# column notation - also known as slice syntax"
      ],
      "metadata": {
        "id": "2a01zYurhETL"
      },
      "execution_count": 40,
      "outputs": []
    },
    {
      "cell_type": "code",
      "source": [
        "s = 'abcdefghijklmnopqrstuvwxyz'"
      ],
      "metadata": {
        "id": "jhN9EG8-hTwF"
      },
      "execution_count": 41,
      "outputs": []
    },
    {
      "cell_type": "code",
      "source": [
        "print(s[0:])"
      ],
      "metadata": {
        "colab": {
          "base_uri": "https://localhost:8080/"
        },
        "id": "2j3PivgShUzb",
        "outputId": "b8bfd1a3-2dc0-42ff-da39-08ef0c5fe95f"
      },
      "execution_count": 42,
      "outputs": [
        {
          "output_type": "stream",
          "name": "stdout",
          "text": [
            "abcdefghijklmnopqrstuvwxyz\n"
          ]
        }
      ]
    },
    {
      "cell_type": "code",
      "source": [
        "print(s[:11])"
      ],
      "metadata": {
        "colab": {
          "base_uri": "https://localhost:8080/"
        },
        "id": "lw0cH75-he7y",
        "outputId": "c2a331a0-a6ee-41f0-c6ba-1a540f53cc7e"
      },
      "execution_count": 43,
      "outputs": [
        {
          "output_type": "stream",
          "name": "stdout",
          "text": [
            "abcdefghijk\n"
          ]
        }
      ]
    },
    {
      "cell_type": "code",
      "source": [
        "print(s[0:11])"
      ],
      "metadata": {
        "colab": {
          "base_uri": "https://localhost:8080/"
        },
        "id": "yOY8Jjn4hkaz",
        "outputId": "5149e0df-5cc9-4db3-afea-f99e1b938e8f"
      },
      "execution_count": 44,
      "outputs": [
        {
          "output_type": "stream",
          "name": "stdout",
          "text": [
            "abcdefghijk\n"
          ]
        }
      ]
    },
    {
      "cell_type": "code",
      "source": [
        "print(s[3:6])"
      ],
      "metadata": {
        "colab": {
          "base_uri": "https://localhost:8080/"
        },
        "id": "5oDS98N2hnRh",
        "outputId": "3e5f0291-16fa-4a14-ba87-16ce6d9a8f28"
      },
      "execution_count": 45,
      "outputs": [
        {
          "output_type": "stream",
          "name": "stdout",
          "text": [
            "def\n"
          ]
        }
      ]
    },
    {
      "cell_type": "code",
      "source": [
        "print(s[:])"
      ],
      "metadata": {
        "colab": {
          "base_uri": "https://localhost:8080/"
        },
        "id": "gcVlify3hrFS",
        "outputId": "95f32cdc-2545-4af3-84c9-6f1b88c9ad25"
      },
      "execution_count": 46,
      "outputs": [
        {
          "output_type": "stream",
          "name": "stdout",
          "text": [
            "abcdefghijklmnopqrstuvwxyz\n"
          ]
        }
      ]
    },
    {
      "cell_type": "code",
      "execution_count": 58,
      "metadata": {
        "id": "N6x0m91nzamy"
      },
      "outputs": [],
      "source": [
        "# Comments - writing a string - using the single quote (')\n",
        "\n",
        "study = 'learning'"
      ]
    },
    {
      "cell_type": "code",
      "execution_count": 59,
      "metadata": {
        "id": "PHFHDPNe049Y"
      },
      "outputs": [],
      "source": [
        "study_a_course = 'Learning introduction to python'"
      ]
    },
    {
      "cell_type": "code",
      "execution_count": 60,
      "metadata": {
        "colab": {
          "base_uri": "https://localhost:8080/"
        },
        "id": "ETmESvBV1O4m",
        "outputId": "20fcd16b-db09-4c77-dab8-50d201e5391b"
      },
      "outputs": [
        {
          "output_type": "stream",
          "name": "stdout",
          "text": [
            "learning\n"
          ]
        }
      ],
      "source": [
        "print(study)"
      ]
    },
    {
      "cell_type": "code",
      "execution_count": 61,
      "metadata": {
        "colab": {
          "base_uri": "https://localhost:8080/"
        },
        "id": "tk_fYMAP13MJ",
        "outputId": "9134fc3f-8e7e-4cf4-c7f6-fed888522f72"
      },
      "outputs": [
        {
          "output_type": "stream",
          "name": "stdout",
          "text": [
            "Learning introduction to python\n"
          ]
        }
      ],
      "source": [
        "print(study_a_course)"
      ]
    },
    {
      "cell_type": "code",
      "execution_count": 62,
      "metadata": {
        "id": "3Gj-yJyF2ovU"
      },
      "outputs": [],
      "source": [
        "# creating a string using double quotes\n",
        "\n",
        "study_a_language = \"Learning a new language\""
      ]
    },
    {
      "cell_type": "code",
      "execution_count": 63,
      "metadata": {
        "colab": {
          "base_uri": "https://localhost:8080/"
        },
        "id": "62RqVKkk7FBM",
        "outputId": "7fd3e5e6-47ce-4e2d-e8a8-965372198215"
      },
      "outputs": [
        {
          "output_type": "stream",
          "name": "stdout",
          "text": [
            "Learning a new language\n"
          ]
        }
      ],
      "source": [
        "print (study_a_language)"
      ]
    },
    {
      "cell_type": "code",
      "execution_count": 64,
      "metadata": {
        "id": "8yX3koiP36Hc"
      },
      "outputs": [],
      "source": [
        "# Use double quotes (\"\") when Apostrophe is introduced in a string\n",
        "\n",
        "study_in_a_school = \"TalentQL's Learning series\""
      ]
    },
    {
      "cell_type": "code",
      "execution_count": 65,
      "metadata": {
        "colab": {
          "base_uri": "https://localhost:8080/"
        },
        "id": "AEFjX1Qa6MkY",
        "outputId": "35588e52-e0d4-44fd-ab99-42fe0be77ae9"
      },
      "outputs": [
        {
          "output_type": "stream",
          "name": "stdout",
          "text": [
            "TalentQL's Learning series\n"
          ]
        }
      ],
      "source": [
        "print(study_in_a_school)"
      ]
    },
    {
      "cell_type": "code",
      "execution_count": 66,
      "metadata": {
        "colab": {
          "base_uri": "https://localhost:8080/",
          "height": 35
        },
        "id": "Vb1CKv9P8Xd6",
        "outputId": "9c75ed03-aed8-4de6-c5a8-6b61f885f4f3"
      },
      "outputs": [
        {
          "output_type": "execute_result",
          "data": {
            "text/plain": [
              "\"TALENTQL'S LEARNING SERIES\""
            ],
            "application/vnd.google.colaboratory.intrinsic+json": {
              "type": "string"
            }
          },
          "metadata": {},
          "execution_count": 66
        }
      ],
      "source": [
        "# Introducing the upper() method allows an all caps value\n",
        "\n",
        "study_in_a_school.upper()"
      ]
    },
    {
      "cell_type": "code",
      "execution_count": 67,
      "metadata": {
        "colab": {
          "base_uri": "https://localhost:8080/"
        },
        "id": "-WEIc9FQ87Uf",
        "outputId": "890f8050-62f7-4a29-eb8a-1301251e32c5"
      },
      "outputs": [
        {
          "output_type": "stream",
          "name": "stdout",
          "text": [
            "TALENTQL'S LEARNING SERIES\n"
          ]
        }
      ],
      "source": [
        "print(study_in_a_school.upper())"
      ]
    },
    {
      "cell_type": "markdown",
      "source": [
        "###**String Formatting**   **-** **\"F - string\"**"
      ],
      "metadata": {
        "id": "8P_3MlHOk-jB"
      }
    },
    {
      "cell_type": "code",
      "source": [
        "# string formatting can also be called string substitution\n",
        "\n",
        "# it is a situation where you have to insert a string into another string\n",
        "\n",
        "# it can also be used in debugging output\n",
        "\n",
        "# recent type of string formatting is the 'f-string'\n",
        "\n",
        "# you can also call a method inside an f-string, make valid expression\n",
        "\n",
        "# f-strings are evaluated at run time"
      ],
      "metadata": {
        "id": "mzHW9qQdlBvi"
      },
      "execution_count": 63,
      "outputs": []
    },
    {
      "cell_type": "code",
      "source": [
        "top_talent = 'ruth nwachukwu'\n",
        "age = 27"
      ],
      "metadata": {
        "id": "JhfQnY33rxQc"
      },
      "execution_count": 64,
      "outputs": []
    },
    {
      "cell_type": "code",
      "source": [
        "print(f'{top_talent} graduated the top talent in her cohort, Karatu and she is only {age} years-old')"
      ],
      "metadata": {
        "colab": {
          "base_uri": "https://localhost:8080/"
        },
        "id": "bk7eHR5Nr751",
        "outputId": "3c50538e-53fa-4f41-b9bd-2de32dd58d5a"
      },
      "execution_count": 65,
      "outputs": [
        {
          "output_type": "stream",
          "name": "stdout",
          "text": [
            "ruth nwachukwu graduated the top talent in her cohort, Karatu and she is only 27 years-old\n"
          ]
        }
      ]
    },
    {
      "cell_type": "code",
      "source": [
        "print(f'{top_talent.upper()} graduated the top talent in her cohort, Karatu and she is only {age} years-old')"
      ],
      "metadata": {
        "colab": {
          "base_uri": "https://localhost:8080/"
        },
        "id": "mPeOKZ4Hr_5_",
        "outputId": "f65e9520-05c5-412c-e2f4-23ab2a88f332"
      },
      "execution_count": 66,
      "outputs": [
        {
          "output_type": "stream",
          "name": "stdout",
          "text": [
            "RUTH NWACHUKWU graduated the top talent in her cohort, Karatu and she is only 27 years-old\n"
          ]
        }
      ]
    },
    {
      "cell_type": "markdown",
      "metadata": {
        "id": "G5gKSqtR_xTa"
      },
      "source": [
        "## **Numbers**"
      ]
    },
    {
      "cell_type": "code",
      "source": [
        "# You can check what type of object is assigned to a variable using Python's built-in type() function. Common data types include:\n",
        "\n",
        "# int (for integer)\n",
        "# float\n",
        "# str (for string)\n",
        "# list\n",
        "# tuple\n",
        "# dict (for dictionary)\n",
        "# set\n",
        "# bool (for Boolean True/False)"
      ],
      "metadata": {
        "id": "d7NQcf6qjxI9"
      },
      "execution_count": 121,
      "outputs": []
    },
    {
      "cell_type": "code",
      "execution_count": 49,
      "metadata": {
        "id": "RkcaeUe8_4c7"
      },
      "outputs": [],
      "source": [
        "# how to use numbers in Python as a calculator\n",
        "\n",
        "# Numbers: Integers\n",
        "\n",
        "# Integers are whole numbers\n",
        "\n",
        "Var = 65"
      ]
    },
    {
      "cell_type": "code",
      "source": [
        "from google.colab import drive\n",
        "drive.mount('/content/drive')"
      ],
      "metadata": {
        "id": "j7M6BIKvlEAS"
      },
      "execution_count": null,
      "outputs": []
    },
    {
      "cell_type": "code",
      "execution_count": 22,
      "metadata": {
        "colab": {
          "base_uri": "https://localhost:8080/"
        },
        "id": "i9RyounWBaud",
        "outputId": "f90f22c7-7c34-4c0d-b35c-05022c2185ba"
      },
      "outputs": [
        {
          "output_type": "execute_result",
          "data": {
            "text/plain": [
              "str"
            ]
          },
          "metadata": {},
          "execution_count": 22
        }
      ],
      "source": [
        "# Introducing a type() function allows you know the type of value it is.\n",
        "\n",
        "type(Study)"
      ]
    },
    {
      "cell_type": "code",
      "execution_count": 19,
      "metadata": {
        "colab": {
          "base_uri": "https://localhost:8080/"
        },
        "id": "gFQqUhQjBxZP",
        "outputId": "0869d19a-b41e-4e5a-dc83-a6d113e287c9"
      },
      "outputs": [
        {
          "output_type": "execute_result",
          "data": {
            "text/plain": [
              "130"
            ]
          },
          "metadata": {},
          "execution_count": 19
        }
      ],
      "source": [
        "# Multiplication\n",
        "\n",
        "Var*2"
      ]
    },
    {
      "cell_type": "code",
      "execution_count": 23,
      "metadata": {
        "colab": {
          "base_uri": "https://localhost:8080/"
        },
        "id": "S6DxVd2RCfPA",
        "outputId": "e38281a7-7b89-4bc4-f3ab-305da8b9d8d6"
      },
      "outputs": [
        {
          "output_type": "execute_result",
          "data": {
            "text/plain": [
              "int"
            ]
          },
          "metadata": {},
          "execution_count": 23
        }
      ],
      "source": [
        "type(Var)"
      ]
    },
    {
      "cell_type": "code",
      "execution_count": 24,
      "metadata": {
        "colab": {
          "base_uri": "https://localhost:8080/"
        },
        "id": "-yboB1_wC-j1",
        "outputId": "17dacd8e-5daa-4e6c-8761-1cdc88f68220"
      },
      "outputs": [
        {
          "output_type": "execute_result",
          "data": {
            "text/plain": [
              "float"
            ]
          },
          "metadata": {},
          "execution_count": 24
        }
      ],
      "source": [
        "# Numbers: Floats\n",
        "\n",
        "# Float are point numbers also called decimals\n",
        "\n",
        "Var1 = 60.5\n",
        "\n",
        "type(Var1)"
      ]
    },
    {
      "cell_type": "code",
      "execution_count": 25,
      "metadata": {
        "colab": {
          "base_uri": "https://localhost:8080/"
        },
        "id": "gUzzqOm1EU2R",
        "outputId": "f34d0ce6-7ae0-4c94-f6e6-0ee38306eed4"
      },
      "outputs": [
        {
          "output_type": "execute_result",
          "data": {
            "text/plain": [
              "30.25"
            ]
          },
          "metadata": {},
          "execution_count": 25
        }
      ],
      "source": [
        "# Division\n",
        "\n",
        "Var1/2"
      ]
    },
    {
      "cell_type": "code",
      "source": [
        "# powers - exponentals\n",
        "\n",
        "2**3"
      ],
      "metadata": {
        "colab": {
          "base_uri": "https://localhost:8080/"
        },
        "id": "Krjc3phGVYc3",
        "outputId": "36341277-0336-44f9-ac56-a2875c7ffc78"
      },
      "execution_count": 13,
      "outputs": [
        {
          "output_type": "execute_result",
          "data": {
            "text/plain": [
              "8"
            ]
          },
          "metadata": {},
          "execution_count": 13
        }
      ]
    },
    {
      "cell_type": "code",
      "source": [
        "# roots can also be done this way rather than using raise to the power half\n",
        "\n",
        "4**0.5"
      ],
      "metadata": {
        "colab": {
          "base_uri": "https://localhost:8080/"
        },
        "id": "fDeRiCKfVm0-",
        "outputId": "1e3cb753-7835-483f-e4df-02e62593078a"
      },
      "execution_count": 26,
      "outputs": [
        {
          "output_type": "execute_result",
          "data": {
            "text/plain": [
              "2.0"
            ]
          },
          "metadata": {},
          "execution_count": 26
        }
      ]
    },
    {
      "cell_type": "code",
      "source": [
        "# Floor Division - takes out the decimals or fractions and returns an integer\n",
        "\n",
        "7//4"
      ],
      "metadata": {
        "colab": {
          "base_uri": "https://localhost:8080/"
        },
        "id": "C8kweDpyWfFt",
        "outputId": "09622cfb-cdd5-4a74-e71d-db17076a8105"
      },
      "execution_count": 42,
      "outputs": [
        {
          "output_type": "execute_result",
          "data": {
            "text/plain": [
              "1"
            ]
          },
          "metadata": {},
          "execution_count": 42
        }
      ]
    },
    {
      "cell_type": "code",
      "source": [
        "7/4       # using division"
      ],
      "metadata": {
        "colab": {
          "base_uri": "https://localhost:8080/"
        },
        "id": "1SWkhZIrXP8h",
        "outputId": "9bfe4919-a2cc-45de-c7ac-71c8ed723fa0"
      },
      "execution_count": 43,
      "outputs": [
        {
          "output_type": "execute_result",
          "data": {
            "text/plain": [
              "1.75"
            ]
          },
          "metadata": {},
          "execution_count": 43
        }
      ]
    },
    {
      "cell_type": "code",
      "source": [
        "# Modulo % - returns the remainder after division. it is the opposite of floor division\n",
        "\n",
        "# percentage sign %\n",
        "\n",
        "7 % 4"
      ],
      "metadata": {
        "colab": {
          "base_uri": "https://localhost:8080/"
        },
        "id": "mHGRrDHjXirQ",
        "outputId": "d566abb1-c20b-40b8-e560-c7efb67bbdbb"
      },
      "execution_count": 46,
      "outputs": [
        {
          "output_type": "execute_result",
          "data": {
            "text/plain": [
              "3"
            ]
          },
          "metadata": {},
          "execution_count": 46
        }
      ]
    },
    {
      "cell_type": "code",
      "source": [
        "# order of operation followed in python - BODMAS\n",
        "\n",
        "2 + 10 * 10 + 3"
      ],
      "metadata": {
        "colab": {
          "base_uri": "https://localhost:8080/"
        },
        "id": "U9HI7pUsYRFB",
        "outputId": "de4d064f-c86a-454c-b485-312260200c9b"
      },
      "execution_count": 45,
      "outputs": [
        {
          "output_type": "execute_result",
          "data": {
            "text/plain": [
              "105"
            ]
          },
          "metadata": {},
          "execution_count": 45
        }
      ]
    },
    {
      "cell_type": "code",
      "source": [
        "# Can use parentheses to specify orders\n",
        "\n",
        "(2+10) * (10+3)"
      ],
      "metadata": {
        "colab": {
          "base_uri": "https://localhost:8080/"
        },
        "id": "TLxOsgJ1ZQOR",
        "outputId": "2d93385f-bc22-4f29-b286-8286f529fd78"
      },
      "execution_count": 47,
      "outputs": [
        {
          "output_type": "execute_result",
          "data": {
            "text/plain": [
              "156"
            ]
          },
          "metadata": {},
          "execution_count": 47
        }
      ]
    },
    {
      "cell_type": "markdown",
      "metadata": {
        "id": "99F2Pa9UG_i-"
      },
      "source": [
        "## **Comments**"
      ]
    },
    {
      "cell_type": "code",
      "execution_count": 80,
      "metadata": {
        "id": "Jjh1IJ-XHEXl"
      },
      "outputs": [],
      "source": [
        "# Comments are introduced with hash marks - examples are below;\n",
        "\n",
        "# Here are numbers\n",
        "\n",
        "# prime numbers\n",
        "\n",
        "# levels of measurements\n",
        "\n",
        "# Distance covered in a marathon"
      ]
    },
    {
      "cell_type": "markdown",
      "metadata": {
        "id": "qbYgtGulIF6R"
      },
      "source": [
        "## **Introducing** **Lists**"
      ]
    },
    {
      "cell_type": "code",
      "source": [
        "# List - sequence of elements in a square bracket seperated by commas\n",
        "\n",
        "# lists can take in different types of data types\n",
        "\n",
        "# append function in a list is used to add an element at the end of a lsit\n",
        "\n",
        "# A list is a sequence just like a string is; to grab the first item in a list,\n",
        "\n",
        "# same bracket notation we used in a string\n",
        "\n",
        "# reassigning a value to an index\n",
        "\n",
        "# nest list - a list inside another list\n",
        "\n",
        "# grabbing a value from a nested if\n",
        "\n",
        "# multiple bracket in a list - nested list\n",
        "\n",
        "# Lists are mutuable - you can change what is inside a list"
      ],
      "metadata": {
        "id": "vf-JDR3Twx0E"
      },
      "execution_count": 81,
      "outputs": []
    },
    {
      "cell_type": "code",
      "execution_count": 68,
      "metadata": {
        "colab": {
          "base_uri": "https://localhost:8080/"
        },
        "id": "uGLX2qL9INFS",
        "outputId": "af009559-956f-47db-807e-ab4f8904be9e"
      },
      "outputs": [
        {
          "output_type": "execute_result",
          "data": {
            "text/plain": [
              "list"
            ]
          },
          "metadata": {},
          "execution_count": 68
        }
      ],
      "source": [
        "# To create a list - Introduce a square brackets when creating lists\n",
        "\n",
        "lst = ['string']\n",
        "\n",
        "type(lst)"
      ]
    },
    {
      "cell_type": "code",
      "execution_count": 75,
      "metadata": {
        "id": "zfSAFlhoT9IS"
      },
      "outputs": [],
      "source": [
        "# Accessing lists\n",
        "\n",
        "# List with different data types - example below;\n",
        "\n",
        "lst = ['string', True, 35]"
      ]
    },
    {
      "cell_type": "code",
      "execution_count": 72,
      "metadata": {
        "colab": {
          "base_uri": "https://localhost:8080/"
        },
        "id": "J-qUuRzVXOAr",
        "outputId": "c5b20874-4486-41c2-ed87-bbdf1b65b08c"
      },
      "outputs": [
        {
          "output_type": "execute_result",
          "data": {
            "text/plain": [
              "[]"
            ]
          },
          "metadata": {},
          "execution_count": 72
        }
      ],
      "source": [
        "# Initialize with a list function\n",
        "\n",
        "lst1 = list()\n",
        "\n",
        "lst1"
      ]
    },
    {
      "cell_type": "code",
      "execution_count": 76,
      "metadata": {
        "colab": {
          "base_uri": "https://localhost:8080/"
        },
        "id": "7v0QH0yfbmK3",
        "outputId": "6f06c085-bbef-4897-f48c-6574eb6bffae"
      },
      "outputs": [
        {
          "output_type": "execute_result",
          "data": {
            "text/plain": [
              "3"
            ]
          },
          "metadata": {},
          "execution_count": 76
        }
      ],
      "source": [
        "# Access a list\n",
        "\n",
        "# Len function - counts every elements inside a list\n",
        "\n",
        "# Len function is an inbuilt python function\n",
        "\n",
        "len(lst)"
      ]
    },
    {
      "cell_type": "code",
      "execution_count": 78,
      "metadata": {
        "colab": {
          "base_uri": "https://localhost:8080/",
          "height": 35
        },
        "id": "mIoOKn9oeCZp",
        "outputId": "a39da139-0d48-4cb0-bb41-9e198a1ea4cd"
      },
      "outputs": [
        {
          "output_type": "execute_result",
          "data": {
            "text/plain": [
              "'string'"
            ],
            "application/vnd.google.colaboratory.intrinsic+json": {
              "type": "string"
            }
          },
          "metadata": {},
          "execution_count": 78
        }
      ],
      "source": [
        "lst[0]"
      ]
    },
    {
      "cell_type": "code",
      "source": [
        "nest = ['come', 'play', 'eat', ['juggle', 'toogle', 'skip', ['pray']]]"
      ],
      "metadata": {
        "id": "_TsmrNMh0VK5"
      },
      "execution_count": 95,
      "outputs": []
    },
    {
      "cell_type": "code",
      "source": [
        "print(nest[3][3][0])"
      ],
      "metadata": {
        "colab": {
          "base_uri": "https://localhost:8080/"
        },
        "id": "Gwgu4Ani0Wl8",
        "outputId": "7fca59cc-a9ad-4338-a3de-046a9d6b0507"
      },
      "execution_count": 91,
      "outputs": [
        {
          "output_type": "stream",
          "name": "stdout",
          "text": [
            "pray\n"
          ]
        }
      ]
    },
    {
      "cell_type": "code",
      "source": [
        "nest = [1, 2, 3, [4, 5, 6]]"
      ],
      "metadata": {
        "id": "B6Y_XvBm0kcZ"
      },
      "execution_count": 98,
      "outputs": []
    },
    {
      "cell_type": "code",
      "source": [
        "print(nest)"
      ],
      "metadata": {
        "colab": {
          "base_uri": "https://localhost:8080/"
        },
        "id": "Lppc_nTW0pv7",
        "outputId": "99b0077e-57b9-44b5-9dfa-00c1432d78a1"
      },
      "execution_count": 99,
      "outputs": [
        {
          "output_type": "stream",
          "name": "stdout",
          "text": [
            "[1, 2, 3, [4, 5, 6]]\n"
          ]
        }
      ]
    },
    {
      "cell_type": "code",
      "source": [
        "print(nest[3][2])"
      ],
      "metadata": {
        "colab": {
          "base_uri": "https://localhost:8080/"
        },
        "id": "mAkHY8xo047R",
        "outputId": "d4c40859-728c-431c-b75e-7f1bd2998bfc"
      },
      "execution_count": 100,
      "outputs": [
        {
          "output_type": "stream",
          "name": "stdout",
          "text": [
            "6\n"
          ]
        }
      ]
    },
    {
      "cell_type": "markdown",
      "metadata": {
        "id": "WkswfvjRhsWZ"
      },
      "source": [
        "## **Modifying** **lists**"
      ]
    },
    {
      "cell_type": "code",
      "execution_count": 91,
      "metadata": {
        "colab": {
          "base_uri": "https://localhost:8080/"
        },
        "id": "8x3uHjgGh0kp",
        "outputId": "dd355b78-244e-47dc-bfd6-79eea24cae1d"
      },
      "outputs": [
        {
          "output_type": "execute_result",
          "data": {
            "text/plain": [
              "['Ruth', 'Esther', 'Pablo', 'John', 'James', 'Peter']"
            ]
          },
          "metadata": {},
          "execution_count": 91
        }
      ],
      "source": [
        "# Creating a New List\n",
        "\n",
        "lst2 = ['Ruth', 'Esther', 'Micheal','John', 'James', 'Peter']\n",
        "\n",
        "# Adding an Element to the List\n",
        "\n",
        "lst2[2] = 'Pablo'\n",
        "\n",
        "lst2"
      ]
    },
    {
      "cell_type": "code",
      "execution_count": 92,
      "metadata": {
        "colab": {
          "base_uri": "https://localhost:8080/"
        },
        "id": "qgeK9062ofoW",
        "outputId": "2bdbb8d9-3b3b-45bf-ce8e-6ce95133d1e9"
      },
      "outputs": [
        {
          "output_type": "execute_result",
          "data": {
            "text/plain": [
              "['Ruth', 'Esther', 'Racheal', 'Pablo', 'John', 'James', 'Peter']"
            ]
          },
          "metadata": {},
          "execution_count": 92
        }
      ],
      "source": [
        "# Adding an element to a list using insert Function\n",
        "\n",
        "lst2.insert(2, 'Racheal')\n",
        "\n",
        "lst2"
      ]
    },
    {
      "cell_type": "code",
      "execution_count": 93,
      "metadata": {
        "colab": {
          "base_uri": "https://localhost:8080/"
        },
        "id": "Vy9Phr1fpkA1",
        "outputId": "d454ff7c-667b-457c-c7db-93286a688ff2"
      },
      "outputs": [
        {
          "output_type": "execute_result",
          "data": {
            "text/plain": [
              "['Ruth', 'Esther', 'Racheal', 'Pablo', 'John', 'James', 'Peter', 'Mudia']"
            ]
          },
          "metadata": {},
          "execution_count": 93
        }
      ],
      "source": [
        "# Adding an element to a list using Append Function\n",
        "\n",
        "lst2.append('Mudia')\n",
        "\n",
        "lst2"
      ]
    },
    {
      "cell_type": "code",
      "execution_count": 94,
      "metadata": {
        "colab": {
          "base_uri": "https://localhost:8080/"
        },
        "id": "mJwm-eWUEuD6",
        "outputId": "b9b67b18-b689-404a-f5e9-c8ca1aa35757"
      },
      "outputs": [
        {
          "output_type": "execute_result",
          "data": {
            "text/plain": [
              "['Ruth', 'Esther', 'Racheal', 'Pablo', 'James', 'Peter', 'Mudia']"
            ]
          },
          "metadata": {},
          "execution_count": 94
        }
      ],
      "source": [
        "# Removing an Element from a list\n",
        "\n",
        "lst2.remove('John')\n",
        "\n",
        "lst2"
      ]
    },
    {
      "cell_type": "code",
      "execution_count": 95,
      "metadata": {
        "id": "uZz2czE7kMbo"
      },
      "outputs": [],
      "source": [
        "# Pop Method Or Function - using the pop function without specifying the number you want to pop removes the last name.\n",
        "\n",
        "pop_lst = lst2.pop()"
      ]
    },
    {
      "cell_type": "code",
      "execution_count": 96,
      "metadata": {
        "colab": {
          "base_uri": "https://localhost:8080/"
        },
        "id": "38V_8r2Kp_WJ",
        "outputId": "842ef92d-e336-4a60-c1c6-81d6888b8e99"
      },
      "outputs": [
        {
          "output_type": "execute_result",
          "data": {
            "text/plain": [
              "['Ruth', 'Esther', 'Racheal', 'Pablo', 'James', 'Peter']"
            ]
          },
          "metadata": {},
          "execution_count": 96
        }
      ],
      "source": [
        "lst2"
      ]
    },
    {
      "cell_type": "code",
      "execution_count": 97,
      "metadata": {
        "colab": {
          "base_uri": "https://localhost:8080/",
          "height": 35
        },
        "id": "L5kJArGNqHFy",
        "outputId": "742d64a4-2b95-421f-bdc7-31dba9f58e40"
      },
      "outputs": [
        {
          "output_type": "execute_result",
          "data": {
            "text/plain": [
              "'Mudia'"
            ],
            "application/vnd.google.colaboratory.intrinsic+json": {
              "type": "string"
            }
          },
          "metadata": {},
          "execution_count": 97
        }
      ],
      "source": [
        "pop_lst"
      ]
    },
    {
      "cell_type": "code",
      "execution_count": 99,
      "metadata": {
        "colab": {
          "base_uri": "https://localhost:8080/"
        },
        "id": "27Hq5VfusSNN",
        "outputId": "66750176-9c81-4156-a791-caa6215099c9"
      },
      "outputs": [
        {
          "output_type": "execute_result",
          "data": {
            "text/plain": [
              "['Ruth', 'Esther', 'Racheal', 'James', 'Peter']"
            ]
          },
          "metadata": {},
          "execution_count": 99
        }
      ],
      "source": [
        "pop_pablo = lst2.pop(3)\n",
        "\n",
        "lst2"
      ]
    },
    {
      "cell_type": "code",
      "execution_count": 100,
      "metadata": {
        "colab": {
          "base_uri": "https://localhost:8080/",
          "height": 35
        },
        "id": "3rCOFrSbs9s4",
        "outputId": "03d2ef9f-22eb-42a2-b56d-2c4193d50e0c"
      },
      "outputs": [
        {
          "output_type": "execute_result",
          "data": {
            "text/plain": [
              "'Pablo'"
            ],
            "application/vnd.google.colaboratory.intrinsic+json": {
              "type": "string"
            }
          },
          "metadata": {},
          "execution_count": 100
        }
      ],
      "source": [
        "pop_pablo"
      ]
    },
    {
      "cell_type": "markdown",
      "metadata": {
        "id": "pMCfP7hYtosC"
      },
      "source": [
        "## **Organizing** **a** **List**"
      ]
    },
    {
      "cell_type": "code",
      "execution_count": 101,
      "metadata": {
        "id": "PMtZ0jXhztaR"
      },
      "outputs": [],
      "source": [
        "# Using the sort() Method - Arranges the list in alphabetical order\n",
        "\n",
        "# Using the copy()Method -  Copy the List\n",
        "\n",
        "lst2_copy = lst2.copy()"
      ]
    },
    {
      "cell_type": "code",
      "source": [
        "lst2_copy"
      ],
      "metadata": {
        "colab": {
          "base_uri": "https://localhost:8080/"
        },
        "id": "FRPe729fkrKj",
        "outputId": "ecca32d8-1aa4-4ecb-d1f3-74cef22d1693"
      },
      "execution_count": 102,
      "outputs": [
        {
          "output_type": "execute_result",
          "data": {
            "text/plain": [
              "['Ruth', 'Esther', 'Racheal', 'James', 'Peter']"
            ]
          },
          "metadata": {},
          "execution_count": 102
        }
      ]
    },
    {
      "cell_type": "code",
      "execution_count": 103,
      "metadata": {
        "id": "OkDZqptp2TKH"
      },
      "outputs": [],
      "source": [
        "lst2_copy.sort()"
      ]
    },
    {
      "cell_type": "code",
      "execution_count": 104,
      "metadata": {
        "colab": {
          "base_uri": "https://localhost:8080/"
        },
        "id": "q-feBTUh3wDy",
        "outputId": "0cc4d480-9c34-42e2-8f52-a52868436ed2"
      },
      "outputs": [
        {
          "output_type": "execute_result",
          "data": {
            "text/plain": [
              "['Esther', 'James', 'Peter', 'Racheal', 'Ruth']"
            ]
          },
          "metadata": {},
          "execution_count": 104
        }
      ],
      "source": [
        "lst2_copy"
      ]
    },
    {
      "cell_type": "code",
      "execution_count": 105,
      "metadata": {
        "colab": {
          "base_uri": "https://localhost:8080/"
        },
        "id": "3WRedzrW8JqL",
        "outputId": "7371c420-9576-4339-a419-e8d24cc9cae9"
      },
      "outputs": [
        {
          "output_type": "execute_result",
          "data": {
            "text/plain": [
              "['Esther', 'James', 'Peter', 'Racheal', 'Ruth']"
            ]
          },
          "metadata": {},
          "execution_count": 105
        }
      ],
      "source": [
        "# Using The Sorted Method - sorts a list temporarily\n",
        "\n",
        "sorted(lst2)"
      ]
    },
    {
      "cell_type": "code",
      "execution_count": 106,
      "metadata": {
        "colab": {
          "base_uri": "https://localhost:8080/"
        },
        "id": "VCMLZUe59zFK",
        "outputId": "2dba0e54-c141-4a7d-a40f-651a76c4d341"
      },
      "outputs": [
        {
          "output_type": "execute_result",
          "data": {
            "text/plain": [
              "['Ruth', 'Esther', 'Racheal', 'James', 'Peter']"
            ]
          },
          "metadata": {},
          "execution_count": 106
        }
      ],
      "source": [
        "lst2"
      ]
    },
    {
      "cell_type": "code",
      "execution_count": 107,
      "metadata": {
        "colab": {
          "base_uri": "https://localhost:8080/"
        },
        "id": "Sb1bCzWd_xHb",
        "outputId": "3022d6a0-78fb-43b8-f6da-ee1cdd404ef4"
      },
      "outputs": [
        {
          "output_type": "execute_result",
          "data": {
            "text/plain": [
              "['Esther', 'James', 'Peter', 'Racheal', 'Ruth']"
            ]
          },
          "metadata": {},
          "execution_count": 107
        }
      ],
      "source": [
        "# Reverse order using the sort method - from back to front and we intoduce a parameter (reverse=True)\n",
        "\n",
        "lst2_copy"
      ]
    },
    {
      "cell_type": "code",
      "execution_count": 108,
      "metadata": {
        "id": "kJcPfPuuAzWO"
      },
      "outputs": [],
      "source": [
        "lst2_copy.sort(reverse=True)"
      ]
    },
    {
      "cell_type": "code",
      "execution_count": 109,
      "metadata": {
        "colab": {
          "base_uri": "https://localhost:8080/"
        },
        "id": "-FS-SqPVBCge",
        "outputId": "344dd588-b33b-442e-d6ac-b8e4d251b86f"
      },
      "outputs": [
        {
          "output_type": "execute_result",
          "data": {
            "text/plain": [
              "['Ruth', 'Racheal', 'Peter', 'James', 'Esther']"
            ]
          },
          "metadata": {},
          "execution_count": 109
        }
      ],
      "source": [
        "lst2_copy"
      ]
    },
    {
      "cell_type": "code",
      "execution_count": 110,
      "metadata": {
        "colab": {
          "base_uri": "https://localhost:8080/"
        },
        "id": "cb4Je_cqBqKS",
        "outputId": "9eea783a-983e-4323-aeba-c69ec2f6f133"
      },
      "outputs": [
        {
          "output_type": "execute_result",
          "data": {
            "text/plain": [
              "['Ruth', 'Esther', 'Racheal', 'James', 'Peter']"
            ]
          },
          "metadata": {},
          "execution_count": 110
        }
      ],
      "source": [
        "# Reverse order Temporarily - using the sorted method\n",
        "\n",
        "lst2"
      ]
    },
    {
      "cell_type": "code",
      "execution_count": 111,
      "metadata": {
        "colab": {
          "base_uri": "https://localhost:8080/"
        },
        "id": "3Q5nayRoB3pM",
        "outputId": "1abe702a-6a08-4a51-b253-9dfdc971533a"
      },
      "outputs": [
        {
          "output_type": "execute_result",
          "data": {
            "text/plain": [
              "['Ruth', 'Racheal', 'Peter', 'James', 'Esther']"
            ]
          },
          "metadata": {},
          "execution_count": 111
        }
      ],
      "source": [
        "sorted(lst2,reverse=True)"
      ]
    },
    {
      "cell_type": "code",
      "execution_count": 112,
      "metadata": {
        "colab": {
          "base_uri": "https://localhost:8080/"
        },
        "id": "A8oonM47C_Dq",
        "outputId": "8a13bb79-bfa7-4841-b8d3-5ed754e14570"
      },
      "outputs": [
        {
          "output_type": "execute_result",
          "data": {
            "text/plain": [
              "['Ruth', 'Esther', 'Racheal', 'James', 'Peter']"
            ]
          },
          "metadata": {},
          "execution_count": 112
        }
      ],
      "source": [
        "lst2"
      ]
    },
    {
      "cell_type": "code",
      "execution_count": 113,
      "metadata": {
        "colab": {
          "base_uri": "https://localhost:8080/"
        },
        "id": "N3uvbGVvH2BQ",
        "outputId": "c6ab4120-71f2-4747-cf50-ce214d9f479e"
      },
      "outputs": [
        {
          "output_type": "execute_result",
          "data": {
            "text/plain": [
              "5"
            ]
          },
          "metadata": {},
          "execution_count": 113
        }
      ],
      "source": [
        "# Len Function - counts the lenght of a list\n",
        "\n",
        "len(lst2)"
      ]
    },
    {
      "cell_type": "code",
      "execution_count": 114,
      "metadata": {
        "colab": {
          "base_uri": "https://localhost:8080/",
          "height": 35
        },
        "id": "we4qVUNTH-Q9",
        "outputId": "00ed1f7c-ad2b-4569-c154-19fc2a124982"
      },
      "outputs": [
        {
          "output_type": "execute_result",
          "data": {
            "text/plain": [
              "'Peter'"
            ],
            "application/vnd.google.colaboratory.intrinsic+json": {
              "type": "string"
            }
          },
          "metadata": {},
          "execution_count": 114
        }
      ],
      "source": [
        "# Index Error\n",
        "\n",
        "# Meaning the Index you are searcing for doesnt exist in the list\n",
        "\n",
        "# List index out of range - Index Error\n",
        "\n",
        "# Indexing starts from 0\n",
        "\n",
        "lst2[4]"
      ]
    },
    {
      "cell_type": "code",
      "execution_count": 63,
      "metadata": {
        "colab": {
          "base_uri": "https://localhost:8080/"
        },
        "id": "mHSpRHKRgihe",
        "outputId": "7df47699-003b-4086-9bee-d59a2b3e7121"
      },
      "outputs": [
        {
          "output_type": "stream",
          "name": "stdout",
          "text": [
            "['True']\n"
          ]
        }
      ],
      "source": [
        "Bol = ['True']\n",
        "\n",
        "print(Bol)"
      ]
    },
    {
      "cell_type": "markdown",
      "metadata": {
        "id": "IRzAoU5ccE9K"
      },
      "source": [
        "### **Working** **With** **A** **List**"
      ]
    },
    {
      "cell_type": "code",
      "execution_count": 64,
      "metadata": {
        "id": "AW6PWbxokL8K"
      },
      "outputs": [],
      "source": [
        "# create a list\n",
        "\n",
        "boys = ['tolu', 'michael','bolu','ben','ade','samuel','david','chidera',]"
      ]
    },
    {
      "cell_type": "code",
      "execution_count": 65,
      "metadata": {
        "colab": {
          "base_uri": "https://localhost:8080/"
        },
        "id": "BRoOgUdHlgJN",
        "outputId": "13ab026b-8318-4466-a5de-21c8be66f632"
      },
      "outputs": [
        {
          "output_type": "execute_result",
          "data": {
            "text/plain": [
              "['tolu', 'michael', 'bolu', 'ben', 'ade', 'samuel', 'david', 'chidera']"
            ]
          },
          "metadata": {},
          "execution_count": 65
        }
      ],
      "source": [
        "boys"
      ]
    },
    {
      "cell_type": "code",
      "execution_count": 66,
      "metadata": {
        "colab": {
          "base_uri": "https://localhost:8080/"
        },
        "id": "Y8T__5R3lzLq",
        "outputId": "e4918425-d08b-4b70-ab74-d8dcf98c426e"
      },
      "outputs": [
        {
          "output_type": "stream",
          "name": "stdout",
          "text": [
            "tolu, you can give a boy child\n",
            "michael, you can give a boy child\n",
            "bolu, you can give a boy child\n",
            "ben, you can give a boy child\n",
            "ade, you can give a boy child\n",
            "samuel, you can give a boy child\n",
            "david, you can give a boy child\n",
            "chidera, you can give a boy child\n",
            "\n",
            "\n",
            "this are individual names you can give a male child\n"
          ]
        }
      ],
      "source": [
        "for names in boys:\n",
        "  print(f\"{names}, you can give a boy child\")\n",
        "\n",
        "print('\\n')\n",
        "print('this are individual names you can give a male child')"
      ]
    },
    {
      "cell_type": "markdown",
      "metadata": {
        "id": "ZXG4lJhnIQ_F"
      },
      "source": [
        "### **Error Indentation**"
      ]
    },
    {
      "cell_type": "code",
      "execution_count": 67,
      "metadata": {
        "id": "RXPsPjheOo21"
      },
      "outputs": [],
      "source": [
        "# indentation error using a for loop - you forget to put a block space in the for loop"
      ]
    },
    {
      "cell_type": "code",
      "execution_count": 84,
      "metadata": {
        "colab": {
          "base_uri": "https://localhost:8080/",
          "height": 106
        },
        "id": "1Cp50CWBIanw",
        "outputId": "c77cc9ce-ad22-4b8e-c668-2e447a6508c9"
      },
      "outputs": [
        {
          "output_type": "error",
          "ename": "IndentationError",
          "evalue": "expected an indented block after 'for' statement on line 1 (<ipython-input-84-6cb34b493694>, line 2)",
          "traceback": [
            "\u001b[0;36m  File \u001b[0;32m\"<ipython-input-84-6cb34b493694>\"\u001b[0;36m, line \u001b[0;32m2\u001b[0m\n\u001b[0;31m    print(f\"{names}, you can give a boy child\")\u001b[0m\n\u001b[0m    ^\u001b[0m\n\u001b[0;31mIndentationError\u001b[0m\u001b[0;31m:\u001b[0m expected an indented block after 'for' statement on line 1\n"
          ]
        }
      ],
      "source": [
        "for names in boys:\n",
        "print(f\"{names}, you can give a boy child\")\n",
        "\n",
        "print('\\n')\n",
        "print('this are individual names you can give a male child')"
      ]
    },
    {
      "cell_type": "code",
      "execution_count": 90,
      "metadata": {
        "colab": {
          "base_uri": "https://localhost:8080/"
        },
        "id": "1MvgI4UoO5fs",
        "outputId": "74ce1c11-4154-4e1b-ac4f-4768b8eda792"
      },
      "outputs": [
        {
          "output_type": "stream",
          "name": "stdout",
          "text": [
            "tolu, you can give a boy child\n",
            "\n",
            "\n",
            "michael, you can give a boy child\n",
            "\n",
            "\n",
            "bolu, you can give a boy child\n",
            "\n",
            "\n",
            "ben, you can give a boy child\n",
            "\n",
            "\n",
            "ade, you can give a boy child\n",
            "\n",
            "\n",
            "samuel, you can give a boy child\n",
            "\n",
            "\n",
            "david, you can give a boy child\n",
            "\n",
            "\n",
            "chidera, you can give a boy child\n",
            "\n",
            "\n",
            "this are individual names you can give a male child\n"
          ]
        }
      ],
      "source": [
        "# logical errors - when you indent additional lines or spaces you are not supposed too\n",
        "\n",
        "# logical errors are errors that dont throw the error report message\n",
        "\n",
        "# logical errors happens when the code does not produce the desired result\n",
        "\n",
        "\n",
        "\n",
        "for names in boys:\n",
        "   print(f\"{names}, you can give a boy child\")\n",
        "   print('\\n')\n",
        "\n",
        "print('this are individual names you can give a male child')"
      ]
    },
    {
      "cell_type": "code",
      "execution_count": 91,
      "metadata": {
        "colab": {
          "base_uri": "https://localhost:8080/",
          "height": 106
        },
        "id": "moXO9NcUVDjp",
        "outputId": "0b2c70ca-ad73-49b5-a2c2-dfcd1ab91caa"
      },
      "outputs": [
        {
          "output_type": "error",
          "ename": "SyntaxError",
          "evalue": "expected ':' (<ipython-input-91-4920a71775db>, line 4)",
          "traceback": [
            "\u001b[0;36m  File \u001b[0;32m\"<ipython-input-91-4920a71775db>\"\u001b[0;36m, line \u001b[0;32m4\u001b[0m\n\u001b[0;31m    for names in boys\u001b[0m\n\u001b[0m                     ^\u001b[0m\n\u001b[0;31mSyntaxError\u001b[0m\u001b[0;31m:\u001b[0m expected ':'\n"
          ]
        }
      ],
      "source": [
        "# invalid syntax error - happens in the for and while loops when you forget to add the colon (:)\n",
        "\n",
        "\n",
        "for names in boys\n",
        "   print(f\"{names}, you can give a boy child\")\n",
        "\n",
        "print('this are individual names you can give a male child')\n",
        "print('\\n')"
      ]
    },
    {
      "cell_type": "markdown",
      "metadata": {
        "id": "B52ZC-fdWO3Q"
      },
      "source": [
        "### **Numerical List**"
      ]
    },
    {
      "cell_type": "code",
      "execution_count": 92,
      "metadata": {
        "id": "vTMx8XK3WOU5"
      },
      "outputs": [],
      "source": [
        "# Numbers in List\n",
        "\n",
        "# The range function\n",
        "\n",
        "# Using the range fuction to create a list\n",
        "\n",
        "# List Comprehension - creates list with a short amount of code"
      ]
    },
    {
      "cell_type": "code",
      "source": [
        "# range function is a built in python function and it is a generator of numerical value\n",
        "\n",
        "# rather than listing a long sequence of number you make use of the range function for easy listing\n",
        "\n",
        "# range function is a short way of generating values"
      ],
      "metadata": {
        "id": "V9vaG7n9yYaZ"
      },
      "execution_count": 161,
      "outputs": []
    },
    {
      "cell_type": "code",
      "source": [
        "# For us to make a range a function you introduce the 'for' loop\n",
        "\n",
        "# Range has 3 parameters - (start, stop, & step)\n",
        "\n",
        "# using the range function it wont list out the last value, it stops at the second to the last\n",
        "\n",
        "# range function only works for integers\n",
        "\n",
        "# see example below\n",
        "\n",
        "for n in range(0,9):\n",
        "  print(n)"
      ],
      "metadata": {
        "colab": {
          "base_uri": "https://localhost:8080/"
        },
        "id": "SgUlVu7sYgdp",
        "outputId": "8ec503ca-9727-4c98-f160-76a601c01bac"
      },
      "execution_count": 106,
      "outputs": [
        {
          "output_type": "stream",
          "name": "stdout",
          "text": [
            "0\n",
            "1\n",
            "2\n",
            "3\n",
            "4\n",
            "5\n",
            "6\n",
            "7\n",
            "8\n"
          ]
        }
      ]
    },
    {
      "cell_type": "code",
      "source": [
        "# putting the range numbers into a list\n",
        "\n",
        "# giving the list a variable\n",
        "\n",
        "test_list = list(range(0,11))"
      ],
      "metadata": {
        "id": "yZB523ZJZvhu"
      },
      "execution_count": 108,
      "outputs": []
    },
    {
      "cell_type": "code",
      "source": [
        "test_list"
      ],
      "metadata": {
        "colab": {
          "base_uri": "https://localhost:8080/"
        },
        "id": "S5sxupH4bBiH",
        "outputId": "443328ea-956d-4d97-c134-152f3f89fce8"
      },
      "execution_count": 109,
      "outputs": [
        {
          "output_type": "execute_result",
          "data": {
            "text/plain": [
              "[0, 1, 2, 3, 4, 5, 6, 7, 8, 9, 10]"
            ]
          },
          "metadata": {},
          "execution_count": 109
        }
      ]
    },
    {
      "cell_type": "markdown",
      "source": [
        "### **List Comprehension**"
      ],
      "metadata": {
        "id": "ko8Sw-4DzA29"
      }
    },
    {
      "cell_type": "code",
      "source": [
        "# creating a list with list comprehension\n",
        "\n",
        "# list comprehension creates list with short amounts of code\n",
        "\n",
        "# this comprehension saves alot of writing, having a code in one line\n",
        "\n",
        "\n",
        "square = []\n",
        "for value in range(0,21):\n",
        "  squares = value**2\n",
        "print(squares)"
      ],
      "metadata": {
        "colab": {
          "base_uri": "https://localhost:8080/"
        },
        "id": "aMHgOeO7bpCR",
        "outputId": "62876d7c-444a-41d7-eb8d-7426545a6176"
      },
      "execution_count": 163,
      "outputs": [
        {
          "output_type": "stream",
          "name": "stdout",
          "text": [
            "400\n"
          ]
        }
      ]
    },
    {
      "cell_type": "code",
      "source": [
        "square = []\n",
        "for n in range(0,21):\n",
        "  squares = n**2\n",
        "square = square.append(squares)\n",
        "print(squares)"
      ],
      "metadata": {
        "colab": {
          "base_uri": "https://localhost:8080/"
        },
        "id": "iQ_0jbUxXDnm",
        "outputId": "5538732b-d402-4eb0-9edc-2e5d647b6cc7"
      },
      "execution_count": 111,
      "outputs": [
        {
          "output_type": "stream",
          "name": "stdout",
          "text": [
            "400\n"
          ]
        }
      ]
    },
    {
      "cell_type": "code",
      "source": [
        "# instead of writing that much code above we can say,\n",
        "\n",
        "squares = [value**2 for value in range (0,21)]\n",
        "print(squares)"
      ],
      "metadata": {
        "colab": {
          "base_uri": "https://localhost:8080/"
        },
        "id": "pBa3mICkerSY",
        "outputId": "ed6ffb60-1cad-422a-c79d-6aea7aa95f34"
      },
      "execution_count": 112,
      "outputs": [
        {
          "output_type": "stream",
          "name": "stdout",
          "text": [
            "[0, 1, 4, 9, 16, 25, 36, 49, 64, 81, 100, 121, 144, 169, 196, 225, 256, 289, 324, 361, 400]\n"
          ]
        }
      ]
    },
    {
      "cell_type": "markdown",
      "source": [
        "### **Slicing - Working with part of a list**"
      ],
      "metadata": {
        "id": "Jyyt_Yt9gJ3N"
      }
    },
    {
      "cell_type": "code",
      "source": [
        "# Slicing a list - choosing the part of a list you like to work with.\n",
        "\n",
        "# To slice you specify the index of the first and last element you want to work with\n",
        "\n",
        "# To slice you make use of the colon notation\n",
        "\n",
        "# Looping & Slicing\n",
        "\n",
        "# making a copy of a list"
      ],
      "metadata": {
        "id": "zMcwjFOukmu3"
      },
      "execution_count": 113,
      "outputs": []
    },
    {
      "cell_type": "code",
      "source": [
        "foods = ['yam','rice','beans','spagetetti','pizza','salad','semo','vegetables']\n",
        "print(foods)"
      ],
      "metadata": {
        "colab": {
          "base_uri": "https://localhost:8080/"
        },
        "id": "lxxtkoN5bX5b",
        "outputId": "e04f7011-11d2-41d8-d68c-7ee1018a6771"
      },
      "execution_count": 114,
      "outputs": [
        {
          "output_type": "stream",
          "name": "stdout",
          "text": [
            "['yam', 'rice', 'beans', 'spagetetti', 'pizza', 'salad', 'semo', 'vegetables']\n"
          ]
        }
      ]
    },
    {
      "cell_type": "code",
      "source": [
        "foods [0:4]"
      ],
      "metadata": {
        "colab": {
          "base_uri": "https://localhost:8080/"
        },
        "id": "04qEgeZgcbb-",
        "outputId": "6f036e5b-4421-43bc-b192-7c4756f4cee7"
      },
      "execution_count": 115,
      "outputs": [
        {
          "output_type": "execute_result",
          "data": {
            "text/plain": [
              "['yam', 'rice', 'beans', 'spagetetti']"
            ]
          },
          "metadata": {},
          "execution_count": 115
        }
      ]
    },
    {
      "cell_type": "code",
      "source": [
        "# using a 'FOR' loop and a slice\n",
        "\n",
        "for names in foods [:6]:\n",
        "  print(names)"
      ],
      "metadata": {
        "colab": {
          "base_uri": "https://localhost:8080/"
        },
        "id": "eRtekuI_cg3Y",
        "outputId": "39715aa3-3555-4caa-d46b-5a3c4b3ade4c"
      },
      "execution_count": 119,
      "outputs": [
        {
          "output_type": "stream",
          "name": "stdout",
          "text": [
            "yam\n",
            "rice\n",
            "beans\n",
            "spagetetti\n",
            "pizza\n",
            "salad\n"
          ]
        }
      ]
    },
    {
      "cell_type": "code",
      "source": [
        "# making a copy of a list without using the .copy() function\n",
        "\n",
        "# you can also make a copy by using an empty index with a colon inside of it\n",
        "\n",
        "\n",
        "foods = foods[:]"
      ],
      "metadata": {
        "id": "Jc9BbMVMe0UD"
      },
      "execution_count": 121,
      "outputs": []
    },
    {
      "cell_type": "code",
      "source": [
        "foods"
      ],
      "metadata": {
        "colab": {
          "base_uri": "https://localhost:8080/"
        },
        "id": "AieXBjtUsMZN",
        "outputId": "eca7db6e-8e0a-42be-885e-7f1eb7f381ef"
      },
      "execution_count": 124,
      "outputs": [
        {
          "output_type": "execute_result",
          "data": {
            "text/plain": [
              "['yam', 'rice', 'beans', 'spagetetti', 'pizza', 'salad', 'semo', 'vegetables']"
            ]
          },
          "metadata": {},
          "execution_count": 124
        }
      ]
    },
    {
      "cell_type": "markdown",
      "source": [
        "###**Styling Your Code**"
      ],
      "metadata": {
        "id": "fxfUDpj4sdbd"
      }
    },
    {
      "cell_type": "code",
      "source": [
        "# PEP 8 - The idea behind PEP 8 is to write readeable codes.\n",
        "\n",
        "# PEP 8 is a style guide for writing readeable codes.it is based on the premise that code is read much more than it is written.\n",
        "\n",
        "# Best practices for writing codes;\n",
        "\n",
        "#1 - Indentation - when writing codes it is important that you indent properly.\n",
        "\n",
        "#2 - Tabs & Spaces - they make up for indentation\n",
        "\n",
        "#3 - Maximum line length - best practices for writing comments is between 72 - 79 lines\n",
        "\n",
        "#4 - Blank lines - when assigning a variable to an element, it is important to give blank spaces\n",
        "\n",
        "#5 - Import statements - when you try to import ways or formulas to make your work easy"
      ],
      "metadata": {
        "id": "MOPKSVlSsotD"
      },
      "execution_count": 125,
      "outputs": []
    },
    {
      "cell_type": "code",
      "source": [
        "#Indentation - when writing codes it is important that you indent properly.\n",
        "\n",
        "foo = long_function_name(var_one, var_two,\n",
        "                         var_three, var_four)"
      ],
      "metadata": {
        "id": "6CCjkcsNvIJ5"
      },
      "execution_count": null,
      "outputs": []
    },
    {
      "cell_type": "code",
      "source": [
        "# best practice for import put it in different lines\n",
        "\n",
        "import statistics\n",
        "import math\n",
        "\n",
        "\n",
        "# Not recommended\n",
        "\n",
        "import statistics, math"
      ],
      "metadata": {
        "id": "-Aizl8P9mnjn"
      },
      "execution_count": 128,
      "outputs": []
    },
    {
      "cell_type": "markdown",
      "source": [
        "###**Tuples**"
      ],
      "metadata": {
        "id": "IyFLMvSfxFY_"
      }
    },
    {
      "cell_type": "code",
      "source": [
        "# Tuples are data structures just like list. they are used to store collection of data\n",
        "\n",
        "# Tuples are immutable, this means once created with elements, it cannot be modified\n",
        "\n",
        "# tupple are used when you dont want a user to change what is inside the sequence of an object\n",
        "\n",
        "# list are mutable; it can be modified\n",
        "\n",
        "# tuple makes use of parentheses() and you can also loop through a tuple"
      ],
      "metadata": {
        "id": "smMsAhLVxN-f"
      },
      "execution_count": 162,
      "outputs": []
    },
    {
      "cell_type": "code",
      "source": [
        "# creating a tuple\n",
        "\n",
        "# first we create a list\n",
        "\n",
        "politicians = ['tinubu','buhari','obasanjo','atiku','peter obi','obama']"
      ],
      "metadata": {
        "id": "uc8Wup0Oy15B"
      },
      "execution_count": 136,
      "outputs": []
    },
    {
      "cell_type": "code",
      "source": [
        "politicians"
      ],
      "metadata": {
        "colab": {
          "base_uri": "https://localhost:8080/"
        },
        "id": "08kjV30qz6Js",
        "outputId": "f9508c37-530a-477b-b0bc-4e332ad168fe"
      },
      "execution_count": 137,
      "outputs": [
        {
          "output_type": "execute_result",
          "data": {
            "text/plain": [
              "['tinubu', 'buhari', 'obasanjo', 'atiku', 'peter obi', 'obama']"
            ]
          },
          "metadata": {},
          "execution_count": 137
        }
      ]
    },
    {
      "cell_type": "code",
      "source": [
        "politicians.insert(2, 'yaraduah')"
      ],
      "metadata": {
        "id": "tpUQeytf0BPu"
      },
      "execution_count": 142,
      "outputs": []
    },
    {
      "cell_type": "code",
      "source": [
        "politicians"
      ],
      "metadata": {
        "colab": {
          "base_uri": "https://localhost:8080/"
        },
        "id": "AEntwcML0Orj",
        "outputId": "121c2b73-06e0-4c06-cfbb-2dd3360fa53c"
      },
      "execution_count": 139,
      "outputs": [
        {
          "output_type": "execute_result",
          "data": {
            "text/plain": [
              "['tinubu', 'buhari', 'obasanjo', 'atiku', 'peter obi', 'obama', 'yaraduah']"
            ]
          },
          "metadata": {},
          "execution_count": 139
        }
      ]
    },
    {
      "cell_type": "code",
      "source": [
        "# creating a tuple - use of parentheses ()\n",
        "\n",
        "politicians_t = ('tinubu', 'buhari', 'obasanjo', 'atiku', 'peter obi', 'obama', 'yaraduah')"
      ],
      "metadata": {
        "id": "MlCI-mEy1QRM"
      },
      "execution_count": 143,
      "outputs": []
    },
    {
      "cell_type": "code",
      "source": [
        "politicians_t"
      ],
      "metadata": {
        "colab": {
          "base_uri": "https://localhost:8080/"
        },
        "id": "0P-CndAm1jio",
        "outputId": "5f8a704e-e947-4388-e734-8d580a8cfe02"
      },
      "execution_count": 144,
      "outputs": [
        {
          "output_type": "execute_result",
          "data": {
            "text/plain": [
              "('tinubu', 'buhari', 'obasanjo', 'atiku', 'peter obi', 'obama', 'yaraduah')"
            ]
          },
          "metadata": {},
          "execution_count": 144
        }
      ]
    },
    {
      "cell_type": "code",
      "source": [
        "type(politicians)"
      ],
      "metadata": {
        "colab": {
          "base_uri": "https://localhost:8080/"
        },
        "id": "djfr8uQR156I",
        "outputId": "b63489ac-e539-4ab6-81f4-e63ee92bb26b"
      },
      "execution_count": 145,
      "outputs": [
        {
          "output_type": "execute_result",
          "data": {
            "text/plain": [
              "list"
            ]
          },
          "metadata": {},
          "execution_count": 145
        }
      ]
    },
    {
      "cell_type": "code",
      "source": [
        "type(politicians_t)"
      ],
      "metadata": {
        "colab": {
          "base_uri": "https://localhost:8080/"
        },
        "id": "OdG8L7YI1-bT",
        "outputId": "35094e60-fa37-4524-e01f-a39ba23361d6"
      },
      "execution_count": 146,
      "outputs": [
        {
          "output_type": "execute_result",
          "data": {
            "text/plain": [
              "tuple"
            ]
          },
          "metadata": {},
          "execution_count": 146
        }
      ]
    },
    {
      "cell_type": "code",
      "source": [
        "# Edit a tuple - you cant edit a tuple\n",
        "\n",
        "# tuple does not have an attribute called insert\n",
        "\n",
        "politicians_t[3]= 'wike'"
      ],
      "metadata": {
        "colab": {
          "base_uri": "https://localhost:8080/",
          "height": 176
        },
        "id": "ycNMz7w22CNE",
        "outputId": "80639cdb-9104-4e81-f481-9320ed7e0a26"
      },
      "execution_count": 150,
      "outputs": [
        {
          "output_type": "error",
          "ename": "TypeError",
          "evalue": "'tuple' object does not support item assignment",
          "traceback": [
            "\u001b[0;31m---------------------------------------------------------------------------\u001b[0m",
            "\u001b[0;31mTypeError\u001b[0m                                 Traceback (most recent call last)",
            "\u001b[0;32m<ipython-input-150-c2e57240f5a1>\u001b[0m in \u001b[0;36m<cell line: 5>\u001b[0;34m()\u001b[0m\n\u001b[1;32m      3\u001b[0m \u001b[0;31m# tuple does not have an attribute called insert\u001b[0m\u001b[0;34m\u001b[0m\u001b[0;34m\u001b[0m\u001b[0m\n\u001b[1;32m      4\u001b[0m \u001b[0;34m\u001b[0m\u001b[0m\n\u001b[0;32m----> 5\u001b[0;31m \u001b[0mpoliticians_t\u001b[0m\u001b[0;34m[\u001b[0m\u001b[0;36m3\u001b[0m\u001b[0;34m]\u001b[0m\u001b[0;34m=\u001b[0m \u001b[0;34m'wike'\u001b[0m\u001b[0;34m\u001b[0m\u001b[0;34m\u001b[0m\u001b[0m\n\u001b[0m",
            "\u001b[0;31mTypeError\u001b[0m: 'tuple' object does not support item assignment"
          ]
        }
      ]
    },
    {
      "cell_type": "code",
      "source": [
        "# Loop through a tuple - you can loop through a tuple\n",
        "\n",
        "for names in politicians_t:\n",
        "  print(names)"
      ],
      "metadata": {
        "colab": {
          "base_uri": "https://localhost:8080/"
        },
        "id": "83rS59FN3j5w",
        "outputId": "993ac266-88fb-47dc-a4e7-f64eff1b7a79"
      },
      "execution_count": 151,
      "outputs": [
        {
          "output_type": "stream",
          "name": "stdout",
          "text": [
            "tinubu\n",
            "buhari\n",
            "obasanjo\n",
            "atiku\n",
            "peter obi\n",
            "obama\n",
            "yaraduah\n"
          ]
        }
      ]
    },
    {
      "cell_type": "code",
      "source": [
        "# Tho tuples are immutable; you can only overwrite a tuple by assigning its variable to another tuple\n",
        "\n",
        "# overwrite a tuple means assigning the variable toanother value\n",
        "\n",
        "politicians_t = ('bread','butter','sardine','milo','milk')"
      ],
      "metadata": {
        "id": "DxVpNghO38gD"
      },
      "execution_count": 158,
      "outputs": []
    },
    {
      "cell_type": "code",
      "source": [
        "politicians_t"
      ],
      "metadata": {
        "colab": {
          "base_uri": "https://localhost:8080/"
        },
        "id": "W7KoDHa65CxA",
        "outputId": "dcd806a4-e9ec-4c19-8105-21d053c4b1ce"
      },
      "execution_count": 159,
      "outputs": [
        {
          "output_type": "execute_result",
          "data": {
            "text/plain": [
              "('bread', 'butter', 'sardine', 'milo', 'milk')"
            ]
          },
          "metadata": {},
          "execution_count": 159
        }
      ]
    },
    {
      "cell_type": "markdown",
      "source": [
        "### **If Statements**"
      ],
      "metadata": {
        "id": "EcIsB6Ha5GZM"
      }
    },
    {
      "cell_type": "code",
      "source": [
        "# If statement - Using a for loop, you can check if a condition is True or False\n",
        "\n",
        "# checking conditional statement we use the double equal sign and it is called the equality operator in python\n",
        "\n",
        "# the equality operator is used to confirm if a value is True / False in python\n",
        "\n",
        "# Inequality operator -  determines if two values are not equal\n",
        "\n",
        "# Numerical comparison operator - used in comparing numbers\n",
        "\n",
        "# Multiple condition - IF / ELIF / ELSE"
      ],
      "metadata": {
        "id": "4n5DnL546c4F"
      },
      "execution_count": 164,
      "outputs": []
    },
    {
      "cell_type": "code",
      "source": [
        "energy_drinks = ['monster','fearless','predator']"
      ],
      "metadata": {
        "id": "bo31olQsWMaP"
      },
      "execution_count": 165,
      "outputs": []
    },
    {
      "cell_type": "code",
      "source": [
        "energy_drinks"
      ],
      "metadata": {
        "colab": {
          "base_uri": "https://localhost:8080/"
        },
        "id": "J8j5RMafH821",
        "outputId": "721b35d5-eb96-43c1-ac63-450baad6b37d"
      },
      "execution_count": 166,
      "outputs": [
        {
          "output_type": "execute_result",
          "data": {
            "text/plain": [
              "['monster', 'fearless', 'predator']"
            ]
          },
          "metadata": {},
          "execution_count": 166
        }
      ]
    },
    {
      "cell_type": "code",
      "source": [
        "for drinks in energy_drinks:\n",
        "  if drinks == 'predator':\n",
        "    print(f\"i love {drinks}\")\n",
        "  else:\n",
        "    print(f\"i hate {drinks}\")"
      ],
      "metadata": {
        "colab": {
          "base_uri": "https://localhost:8080/"
        },
        "id": "B-JU6lbtMW9j",
        "outputId": "f548e3aa-3484-4e2c-8fe0-d42a2a4d151c"
      },
      "execution_count": 172,
      "outputs": [
        {
          "output_type": "stream",
          "name": "stdout",
          "text": [
            "i hate monster\n",
            "i hate fearless\n",
            "i love predator\n"
          ]
        }
      ]
    },
    {
      "cell_type": "code",
      "source": [
        "for drinks in energy_drinks:\n",
        "  if drinks == 'predator':\n",
        "    print('i love {}'.format(drinks))\n",
        "  else:\n",
        "    print('i hate {}'.format(drinks))"
      ],
      "metadata": {
        "colab": {
          "base_uri": "https://localhost:8080/"
        },
        "id": "YwtaO2H03m2A",
        "outputId": "81dc7bc0-a214-4831-871f-61811901baf4"
      },
      "execution_count": 202,
      "outputs": [
        {
          "output_type": "stream",
          "name": "stdout",
          "text": [
            "i hate monster\n",
            "i hate fearless\n",
            "i love predator\n"
          ]
        }
      ]
    },
    {
      "cell_type": "code",
      "source": [
        "for drinks in energy_drinks:\n",
        "  if drinks == 'predator':\n",
        "    print('i love {}'.format(drinks))\n",
        "  else:\n",
        "    print('i hate energy drinks in general' )"
      ],
      "metadata": {
        "colab": {
          "base_uri": "https://localhost:8080/"
        },
        "id": "b2r12y9bCXZZ",
        "outputId": "b2c10a81-df96-469d-f39d-e0cd4dbd8cc7"
      },
      "execution_count": 204,
      "outputs": [
        {
          "output_type": "stream",
          "name": "stdout",
          "text": [
            "i hate energy drinks in general\n",
            "i hate energy drinks in general\n",
            "i love predator\n"
          ]
        }
      ]
    },
    {
      "cell_type": "code",
      "source": [
        "statements = ['gadgets stolen', 'at satelite close 45 house 5']"
      ],
      "metadata": {
        "id": "dddoDRfsPakc"
      },
      "execution_count": 174,
      "outputs": []
    },
    {
      "cell_type": "code",
      "source": [
        "statements"
      ],
      "metadata": {
        "colab": {
          "base_uri": "https://localhost:8080/"
        },
        "id": "2QIL2pvpPvUq",
        "outputId": "f10b0c85-2a81-4dfa-80f4-a087a37b8a8f"
      },
      "execution_count": 175,
      "outputs": [
        {
          "output_type": "execute_result",
          "data": {
            "text/plain": [
              "['gadgets stolen', 'at satelite close 45 house 5']"
            ]
          },
          "metadata": {},
          "execution_count": 175
        }
      ]
    },
    {
      "cell_type": "code",
      "source": [
        "for sentences in statements:\n",
        "  if sentences == 'gadgets stolen':\n",
        "    print(f\"chukwudi is the theif for {sentences}\")\n",
        "  else:\n",
        "    print(sentences)"
      ],
      "metadata": {
        "colab": {
          "base_uri": "https://localhost:8080/"
        },
        "id": "_OAVYRVHP11_",
        "outputId": "77a8739c-4e22-46a0-c2c1-93f3a65c9b78"
      },
      "execution_count": 178,
      "outputs": [
        {
          "output_type": "stream",
          "name": "stdout",
          "text": [
            "chukwudi is the theif for gadgets stolen\n",
            "at satelite close 45 house 5\n"
          ]
        }
      ]
    },
    {
      "cell_type": "code",
      "source": [
        "for sentences in statements:\n",
        "  if sentences == 'gadgets stolen':\n",
        "    print('chukwudi is the theif for {}'.format(sentences))\n",
        "  else:\n",
        "    print(sentences)"
      ],
      "metadata": {
        "colab": {
          "base_uri": "https://localhost:8080/"
        },
        "id": "TQF3h99I9jLm",
        "outputId": "b035abfd-18c5-4290-8c4a-8cc30440c41c"
      },
      "execution_count": 190,
      "outputs": [
        {
          "output_type": "stream",
          "name": "stdout",
          "text": [
            "chukwudi is the theif for gadgets stolen\n",
            "at satelite close 45 house 5\n"
          ]
        }
      ]
    },
    {
      "cell_type": "code",
      "source": [
        "# A simple IF statements using the numerical comparison operator and evaluating only one condition\n",
        "\n",
        "# In this simple IF statement, when the condition is true is prints out a response but when condition is not true is does not print out anything\n",
        "\n",
        "\n",
        "age = 27\n",
        "if age >= 18:\n",
        "  print('you are eligible to vote')"
      ],
      "metadata": {
        "colab": {
          "base_uri": "https://localhost:8080/"
        },
        "id": "WidZA8RlW48a",
        "outputId": "be3d6098-60db-45b6-ce0d-97a230940584"
      },
      "execution_count": 191,
      "outputs": [
        {
          "output_type": "stream",
          "name": "stdout",
          "text": [
            "you are eligible to vote\n"
          ]
        }
      ]
    },
    {
      "cell_type": "code",
      "source": [
        "age = 15\n",
        "if age >= 18:\n",
        "  print('you are eligible to vote')"
      ],
      "metadata": {
        "id": "Gd1fRVgHZ2n7"
      },
      "execution_count": 192,
      "outputs": []
    },
    {
      "cell_type": "code",
      "source": [
        "# IF / ELSE statements - makes it possible to test for two conditions\n",
        "\n",
        "age = 15\n",
        "if age >= 18:\n",
        "  print('you are eligible to vote')\n",
        "else:\n",
        "  print(\"you are not eligible to vote\")"
      ],
      "metadata": {
        "colab": {
          "base_uri": "https://localhost:8080/"
        },
        "id": "DZkjmhWyaL8n",
        "outputId": "a78c2820-047b-4f94-8fd1-22c00d83c0d1"
      },
      "execution_count": 193,
      "outputs": [
        {
          "output_type": "stream",
          "name": "stdout",
          "text": [
            "you are not eligible to vote\n"
          ]
        }
      ]
    },
    {
      "cell_type": "code",
      "source": [
        "# IF / ELIF / ELSE - makes it possible to test more than two conditions\n",
        "\n",
        "if age < 4:\n",
        "  print('cake is free')\n",
        "elif age < 18:\n",
        "  print('cake is N100')\n",
        "else:\n",
        "  print('cake is N200')"
      ],
      "metadata": {
        "colab": {
          "base_uri": "https://localhost:8080/"
        },
        "id": "wOC7VSCrcB1t",
        "outputId": "701e8257-613b-44f4-8433-1e0548880058"
      },
      "execution_count": 185,
      "outputs": [
        {
          "output_type": "stream",
          "name": "stdout",
          "text": [
            "cake is N100\n"
          ]
        }
      ]
    },
    {
      "cell_type": "code",
      "source": [
        "# Multiple ELIF statements\n",
        "\n",
        "age = 4\n",
        "if age < 4:\n",
        "  print('cake is free')\n",
        "elif age < 18:\n",
        "  print('cake is N100')\n",
        "elif age < 65:\n",
        "  print('cake is 200')\n",
        "else:\n",
        "  print('cake is N50')"
      ],
      "metadata": {
        "colab": {
          "base_uri": "https://localhost:8080/"
        },
        "id": "3UV0c5OGfcD_",
        "outputId": "0b93bf3d-85fe-4c76-b59b-8b6c81caebe3"
      },
      "execution_count": 186,
      "outputs": [
        {
          "output_type": "stream",
          "name": "stdout",
          "text": [
            "cake is N100\n"
          ]
        }
      ]
    },
    {
      "cell_type": "code",
      "source": [
        "# Removing the ELSE statement\n",
        "\n",
        "age = 50\n",
        "if age < 4:\n",
        "  print('cake is free')\n",
        "elif age < 18:\n",
        "  print('cake is N100')\n",
        "elif age < 65:\n",
        "  print('cake is 200')\n",
        "elif age >= 65:\n",
        "  print('cake is N50')"
      ],
      "metadata": {
        "colab": {
          "base_uri": "https://localhost:8080/"
        },
        "id": "Mzq2LYfmgpGc",
        "outputId": "b5a66509-d4bb-4866-efdb-70b86a3da064"
      },
      "execution_count": 199,
      "outputs": [
        {
          "output_type": "stream",
          "name": "stdout",
          "text": [
            "cake is 200\n"
          ]
        }
      ]
    },
    {
      "cell_type": "markdown",
      "source": [
        "### **Special Items**"
      ],
      "metadata": {
        "id": "9z_KVoA7i-pA"
      }
    },
    {
      "cell_type": "code",
      "source": [
        "# Special statement is when we use a FOR loop and IF statement to loop through a list and pick out a special situation"
      ],
      "metadata": {
        "id": "_QGsUvjSjDRu"
      },
      "execution_count": 200,
      "outputs": []
    },
    {
      "cell_type": "code",
      "source": [
        "job_openings = ['data scientist', 'data analyst', 'data engineer', 'data architect']\n",
        "\n",
        "\n",
        "for jobs in job_openings:\n",
        "    if jobs == 'data scientist':\n",
        "        print(\"sorry, we are not hiring for a data science role\")\n",
        "    else:\n",
        "        print(\"we are hiring for a  \" +  jobs  +  \".\")\n",
        "print(\"\\nThank you for checking our job openings.\")"
      ],
      "metadata": {
        "colab": {
          "base_uri": "https://localhost:8080/"
        },
        "id": "b_QA_WsCzRMe",
        "outputId": "06f308cb-e213-4ca2-ad49-31afa84d9d3c"
      },
      "execution_count": 208,
      "outputs": [
        {
          "output_type": "stream",
          "name": "stdout",
          "text": [
            "sorry, we are not hiring for a data science role\n",
            "we are hiring for a  data analyst.\n",
            "we are hiring for a  data engineer.\n",
            "we are hiring for a  data architect.\n",
            "\n",
            "Thank you for checking our job openings.\n"
          ]
        }
      ]
    },
    {
      "cell_type": "markdown",
      "source": [
        "### **Dictionary**"
      ],
      "metadata": {
        "id": "Y1kjtdmZ1miN"
      }
    },
    {
      "cell_type": "code",
      "source": [
        "# Creating a simple dictionary\n",
        "\n",
        "user = {'name': 'ruth',  'age': 27,  'country': 'nigeria'}"
      ],
      "metadata": {
        "id": "uJcKJISz1tx-"
      },
      "execution_count": 2,
      "outputs": []
    },
    {
      "cell_type": "code",
      "source": [
        "print(user['name'])"
      ],
      "metadata": {
        "colab": {
          "base_uri": "https://localhost:8080/"
        },
        "id": "9_7biD6R9--h",
        "outputId": "0c26427e-6294-4d4d-9bf9-3a17c613b0e1"
      },
      "execution_count": 3,
      "outputs": [
        {
          "output_type": "stream",
          "name": "stdout",
          "text": [
            "ruth\n"
          ]
        }
      ]
    },
    {
      "cell_type": "code",
      "source": [
        "user"
      ],
      "metadata": {
        "colab": {
          "base_uri": "https://localhost:8080/"
        },
        "id": "HJXEwBA8Aqcz",
        "outputId": "3053a79d-c4f9-453e-f1e6-80a388c6e141"
      },
      "execution_count": 4,
      "outputs": [
        {
          "output_type": "execute_result",
          "data": {
            "text/plain": [
              "{'name': 'ruth', 'age': 27, 'country': 'nigeria'}"
            ]
          },
          "metadata": {},
          "execution_count": 4
        }
      ]
    },
    {
      "cell_type": "code",
      "source": [
        "# Adding key - value pairs\n",
        "\n",
        "user['occupation'] = 'data analyst'"
      ],
      "metadata": {
        "id": "thkposaHAubj"
      },
      "execution_count": 5,
      "outputs": []
    },
    {
      "cell_type": "code",
      "source": [
        "user"
      ],
      "metadata": {
        "colab": {
          "base_uri": "https://localhost:8080/"
        },
        "id": "1QtenaVWA6tB",
        "outputId": "8251c46e-8198-48d3-ad96-37d4ced293e5"
      },
      "execution_count": 6,
      "outputs": [
        {
          "output_type": "execute_result",
          "data": {
            "text/plain": [
              "{'name': 'ruth', 'age': 27, 'country': 'nigeria', 'occupation': 'data analyst'}"
            ]
          },
          "metadata": {},
          "execution_count": 6
        }
      ]
    },
    {
      "cell_type": "code",
      "source": [
        "user['position'] = 'Intern'"
      ],
      "metadata": {
        "id": "3m-OREbfBUxn"
      },
      "execution_count": 7,
      "outputs": []
    },
    {
      "cell_type": "code",
      "source": [
        "user"
      ],
      "metadata": {
        "colab": {
          "base_uri": "https://localhost:8080/"
        },
        "id": "WEuw1FDjBcYU",
        "outputId": "08544dab-1bf6-4702-cffb-569c036535ef"
      },
      "execution_count": 8,
      "outputs": [
        {
          "output_type": "execute_result",
          "data": {
            "text/plain": [
              "{'name': 'ruth',\n",
              " 'age': 27,\n",
              " 'country': 'nigeria',\n",
              " 'occupation': 'data analyst',\n",
              " 'position': 'Intern'}"
            ]
          },
          "metadata": {},
          "execution_count": 8
        }
      ]
    },
    {
      "cell_type": "code",
      "source": [
        "# Modifying the user dictionary\n",
        "\n",
        "user['position'] = 'associate data analyst'"
      ],
      "metadata": {
        "id": "9T1iN8-KBgcH"
      },
      "execution_count": 9,
      "outputs": []
    },
    {
      "cell_type": "code",
      "source": [
        "user"
      ],
      "metadata": {
        "colab": {
          "base_uri": "https://localhost:8080/"
        },
        "id": "bKSGOTfJCDcw",
        "outputId": "eaac7b4d-ba59-4f75-f871-c6c4a571482f"
      },
      "execution_count": 10,
      "outputs": [
        {
          "output_type": "execute_result",
          "data": {
            "text/plain": [
              "{'name': 'ruth',\n",
              " 'age': 27,\n",
              " 'country': 'nigeria',\n",
              " 'occupation': 'data analyst',\n",
              " 'position': 'associate data analyst'}"
            ]
          },
          "metadata": {},
          "execution_count": 10
        }
      ]
    },
    {
      "cell_type": "code",
      "source": [
        "# Remove key - value pair using the del function\n",
        "\n",
        "del user['position']"
      ],
      "metadata": {
        "id": "7aTwR86-Crdn"
      },
      "execution_count": 11,
      "outputs": []
    },
    {
      "cell_type": "code",
      "source": [
        "user"
      ],
      "metadata": {
        "colab": {
          "base_uri": "https://localhost:8080/"
        },
        "id": "8kMfD0kHCqtH",
        "outputId": "aa860cd2-544c-413e-e525-9864439b48b7"
      },
      "execution_count": 12,
      "outputs": [
        {
          "output_type": "execute_result",
          "data": {
            "text/plain": [
              "{'name': 'ruth', 'age': 27, 'country': 'nigeria', 'occupation': 'data analyst'}"
            ]
          },
          "metadata": {},
          "execution_count": 12
        }
      ]
    }
  ],
  "metadata": {
    "colab": {
      "provenance": [],
      "authorship_tag": "ABX9TyNYeYJR3TDiz2DogbaUmUKR",
      "include_colab_link": true
    },
    "kernelspec": {
      "display_name": "Python 3",
      "name": "python3"
    },
    "language_info": {
      "name": "python"
    }
  },
  "nbformat": 4,
  "nbformat_minor": 0
}